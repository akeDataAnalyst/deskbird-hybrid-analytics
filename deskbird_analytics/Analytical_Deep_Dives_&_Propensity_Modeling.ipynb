{
 "cells": [
  {
   "cell_type": "markdown",
   "id": "38592f5d-5636-4025-a82a-b23caf5b48f6",
   "metadata": {},
   "source": [
    "## **1.Analytical Deep Dives**"
   ]
  },
  {
   "cell_type": "markdown",
   "id": "35a13588-5c83-4215-96d9-922f38d5104d",
   "metadata": {},
   "source": [
    "### **A. Funnel Conversion Analysis by Company Size**"
   ]
  },
  {
   "cell_type": "code",
   "execution_count": 1,
   "id": "1924b6ed-18c2-414b-86a0-09076c046075",
   "metadata": {},
   "outputs": [
    {
     "name": "stdout",
     "output_type": "stream",
     "text": [
      "--- Funnel Metrics by Company Size ---\n",
      "  company_size  TotalLeads  TotalCustomers  TotalRevenue  ConversionRate\n",
      "0   Enterprise        39.0            14.0     128458.52        35.89744\n",
      "1   Mid-Market        51.0             9.0      95725.42        17.64706\n",
      "2          SMB       113.0            15.0     123603.47        13.27434\n"
     ]
    }
   ],
   "source": [
    "# Setup Code (from your previous message, assuming .env is loaded)\n",
    "import pandas as pd\n",
    "from sqlalchemy import create_engine, text\n",
    "import numpy as np\n",
    "from sklearn.model_selection import train_test_split\n",
    "from sklearn.linear_model import LogisticRegression\n",
    "import statsmodels.api as sm\n",
    "from scipy.stats import chi2_contingency\n",
    "from dotenv import load_dotenv\n",
    "import os\n",
    "\n",
    "load_dotenv()\n",
    "\n",
    "# Database Connection Details\n",
    "db_user = os.getenv('DB_USER')\n",
    "db_password = os.getenv('DB_PASSWORD')\n",
    "db_host = os.getenv('DB_HOST')\n",
    "db_name = os.getenv('DB_NAME')\n",
    "\n",
    "connection_string = f'mysql+mysqlconnector://{db_user}:{db_password}@{db_host}/{db_name}'\n",
    "engine = create_engine(connection_string)\n",
    "\n",
    "def run_sql(query):\n",
    "    with engine.connect() as conn:\n",
    "        df = pd.read_sql(text(query), conn)\n",
    "    return df\n",
    "\n",
    "# Growth Funnel Mart structure \n",
    "funnel_query= \"\"\"\n",
    "SELECT\n",
    "    company_size,\n",
    "    SUM(total_leads) AS TotalLeads,\n",
    "    SUM(total_customers) AS TotalCustomers,\n",
    "    SUM(total_revenue) AS TotalRevenue,\n",
    "    (SUM(total_customers) * 100.0) / NULLIF(SUM(total_leads), 0) AS ConversionRate\n",
    "FROM\n",
    "    growth_funnel_mart\n",
    "GROUP BY 1\n",
    "ORDER BY ConversionRate DESC;\n",
    "\"\"\"\n",
    "\n",
    "funnel_by_size_df = run_sql(funnel_query)\n",
    "print(\"--- Funnel Metrics by Company Size ---\")\n",
    "print(funnel_by_size_df)"
   ]
  },
  {
   "cell_type": "markdown",
   "id": "2f354f53-7ae8-4ffa-ab29-a1637b28af47",
   "metadata": {},
   "source": [
    "### **Funnel Conversion Analysis: Key Insights & Actions**\n",
    "\n",
    "**Key Insight**                                                                                                                                            \n",
    "The sales funnel exhibits a dual growth mandate: prioritize Mid-Market for value and Enterprise for efficiency. Mid-Market has the highest Average Deal Value (ADV) at $10,636, but its conversion rate (17.65%) is less than half the highly efficient Enterprise rate (35.90%). The high-volume SMB segment is the least efficient (13.27% conversion), indicating significant waste in sales resources.\n",
    "\n",
    "**Recommended Actions**\n",
    "1. **Optimize Mid-Market Funnel (High Priority):**\n",
    "\n",
    "- **Action:** Immediately launch a deep-dive analysis focusing on the Mid-Market SQL-to-Won stage. Every percentage point of lift here unlocks the highest potential revenue due to the superior ADV.\n",
    "\n",
    "2. **Re-evaluate SMB Lead Strategy (High Priority):**\n",
    "\n",
    "- **Action:** Redefine qualification criteria for SMBs. Pivot these leads towards a low-touch, self-service product track or a freemium model to reduce sales cycle costs and improve the effective conversion rate.\n",
    "\n",
    "3. **Scale Enterprise Lead Generation (Medium Priority):**\n",
    "\n",
    "- **Action:** Increase investment in channels proven to deliver high-quality Enterprise leads. The funnel's current efficiency (35.90%) can handle higher volume, guaranteeing a strong ROI."
   ]
  },
  {
   "cell_type": "markdown",
   "id": "02831cb2-5058-44a8-9669-a415243e0578",
   "metadata": {},
   "source": [
    "### **B. Product Utilization Insights**"
   ]
  },
  {
   "cell_type": "code",
   "execution_count": 2,
   "id": "52a9d6b4-9326-47c2-a0aa-6fa13ca26025",
   "metadata": {},
   "outputs": [
    {
     "name": "stdout",
     "output_type": "stream",
     "text": [
      "\n",
      "--- Office Utilization by Day of Week and Company Size ---\n",
      "   DayOfWeek company_size  TotalDeskBookings  TotalRoomBookings\n",
      "0   Thursday          SMB              108.0               84.0\n",
      "1     Sunday   Enterprise              105.0               83.0\n",
      "2    Tuesday          SMB              101.0               75.0\n",
      "3  Wednesday          SMB               99.0               93.0\n",
      "4   Saturday          SMB               93.0               79.0\n",
      "5   Thursday   Enterprise               91.0               83.0\n",
      "6     Friday   Enterprise               91.0               95.0\n",
      "7   Saturday   Enterprise               88.0               95.0\n",
      "8     Friday          SMB               87.0               81.0\n",
      "9     Monday          SMB               87.0              104.0\n"
     ]
    }
   ],
   "source": [
    "# SQL Query: Find the most popular days and compare utilization by size\n",
    "utilization_query = \"\"\"\n",
    "SELECT\n",
    "    CASE day_of_week\n",
    "        WHEN 1 THEN 'Sunday'\n",
    "        WHEN 2 THEN 'Monday'\n",
    "        WHEN 3 THEN 'Tuesday'\n",
    "        WHEN 4 THEN 'Wednesday'\n",
    "        WHEN 5 THEN 'Thursday'\n",
    "        WHEN 6 THEN 'Friday'\n",
    "        WHEN 7 THEN 'Saturday'\n",
    "    END AS DayOfWeek,\n",
    "    company_size,\n",
    "    SUM(total_desk_bookings) AS TotalDeskBookings,\n",
    "    SUM(total_room_bookings) AS TotalRoomBookings\n",
    "FROM\n",
    "    office_utilization_mart\n",
    "GROUP BY 1, 2\n",
    "ORDER BY TotalDeskBookings DESC;\n",
    "\"\"\"\n",
    "\n",
    "utilization_df = run_sql(utilization_query)\n",
    "\n",
    "print(\"\\n--- Office Utilization by Day of Week and Company Size ---\")\n",
    "print(utilization_df.head(10))"
   ]
  },
  {
   "cell_type": "markdown",
   "id": "01701094-9322-4069-baa9-e158f5a2efe4",
   "metadata": {},
   "source": [
    "### **Product Utilization Insights: Key Insights & Actions**"
   ]
  },
  {
   "cell_type": "markdown",
   "id": "7d922827-2b12-4c83-a870-5823ab41b2d3",
   "metadata": {},
   "source": [
    "### **Key Insight**\n",
    "Utilization patterns reveal non-traditional office usage, suggesting client flexibility. Enterprise clients show high utilization on non-standard days (e.g., Sunday and Saturday are among the top 8 days for bookings). More critically, the SMB segment exhibits periods where room bookings exceed desk bookings (e.g., Monday: 104 room bookings vs. 87 desk bookings). This points to an acute need for collaborative spaces over individual work stations during certain days.\n",
    "\n",
    "### **Recommended Actions**\n",
    "1. **Develop Utilization Advisory Service (High Priority):**\n",
    "\n",
    "- **Action:** Use this non-traditional usage data (weekend peaks, high room ratio) to create a personalized consultation service for clients. For example, advise Enterprise clients on managing weekend security/utility costs, and advise SMBs on converting existing office space into more modular, reservable meeting rooms.\n",
    "\n",
    "2. **Optimize Product for Collaboration (Product Team):**\n",
    "\n",
    "- **Action:** Investigate the underlying reasons for the high room-to-desk ratio in SMBs. Introduce product features that facilitate room discovery, booking, and check-in efficiency to reduce friction for collaboration-heavy days like Monday.\n",
    "\n",
    "3. **Use Data as a Sales Differentiator (Sales Team):**\n",
    "\n",
    "- **Action:** Leverage the unusual usage patterns as evidence that the Deskbird platform provides superior flexibility for global or modern hybrid teams, directly addressing competitors who assume a rigid Tuesday-Wednesday peak."
   ]
  },
  {
   "cell_type": "markdown",
   "id": "6951f054-d900-4e22-9e82-918aed93dc1c",
   "metadata": {},
   "source": [
    "### **2.Propensity Modeling (Logistic Regression)**"
   ]
  },
  {
   "cell_type": "markdown",
   "id": "538a5bbb-ac60-4bf3-b527-c745116e7098",
   "metadata": {},
   "source": [
    "#### **A. Data Preparation**"
   ]
  },
  {
   "cell_type": "code",
   "execution_count": 3,
   "id": "13799cb9-842e-44d2-989a-a8094a4cee90",
   "metadata": {},
   "outputs": [],
   "source": [
    "# Load required data for modeling (Full Funnel Mart + CRM Status)\n",
    "model_query = \"\"\"\n",
    "SELECT\n",
    "    ffe.user_id,\n",
    "    ffe.company_size,\n",
    "    ffe.is_conversion_event,\n",
    "    CASE WHEN ffe.deal_stage = 'Won' THEN 1 ELSE 0 END AS is_customer\n",
    "FROM\n",
    "    int_full_funnel_events AS ffe\n",
    "WHERE\n",
    "    ffe.is_conversion_event = 1 -- Only analyze leads that have requested a demo\n",
    "\"\"\"\n",
    "\n",
    "model_df = run_sql(model_query)\n",
    "\n",
    "# 1. Clean up the source of the issue: Ensure the company_size column has no lingering issues\n",
    "#    And ensure the is_customer column is strictly 0 or 1\n",
    "model_df['is_customer'] = model_df['is_customer'].astype(int)\n",
    "\n",
    "# Handle the categorical variable (company_size) using one-hot encoding\n",
    "model_df = pd.get_dummies(model_df, columns=['company_size'], prefix='size', drop_first=True)\n",
    "\n",
    "# Select features and target\n",
    "X = model_df.filter(regex='size_') \n",
    "y = model_df['is_customer']\n",
    "\n",
    "# 2. **CRITICAL FIX:** Drop any rows with NaN/None values, which can occur if the join failed \n",
    "#    and created a missing category that wasn't fully cleaned up.\n",
    "#    Since the features are just dummies, this usually means a failure in the initial SQL load.\n",
    "data = pd.concat([X, y], axis=1).dropna()\n",
    "X = data.drop(columns=['is_customer'])\n",
    "y = data['is_customer']\n",
    "\n",
    "# 3. **CRITICAL FIX:** Final casting to float/int to prevent 'object' type error\n",
    "X = X.astype(float)\n",
    "y = y.astype(int)\n",
    "\n",
    "# Split data (70% train, 30% test)\n",
    "X_train, X_test, y_train, y_test = train_test_split(X, y, test_size=0.3, random_state=42)\n",
    "\n",
    "# Add constant for statsmodels (required for the intercept term)\n",
    "X_train_sm = sm.add_constant(X_train, prepend=False)"
   ]
  },
  {
   "cell_type": "markdown",
   "id": "18c92914-2abf-453c-b41d-37f2faf28188",
   "metadata": {},
   "source": [
    "#### **B. Build and Analyze Model**"
   ]
  },
  {
   "cell_type": "code",
   "execution_count": 4,
   "id": "6df1f7a4-3b0c-4f7a-989a-af09869e24df",
   "metadata": {},
   "outputs": [
    {
     "name": "stdout",
     "output_type": "stream",
     "text": [
      "Optimization terminated successfully.\n",
      "         Current function value: 0.462336\n",
      "         Iterations 6\n",
      "\n",
      "--- Logistic Regression Model Summary (Propensity to Convert) ---\n",
      "                           Logit Regression Results                           \n",
      "==============================================================================\n",
      "Dep. Variable:            is_customer   No. Observations:                  142\n",
      "Model:                          Logit   Df Residuals:                      139\n",
      "Method:                           MLE   Df Model:                            2\n",
      "Date:                Thu, 25 Sep 2025   Pseudo R-squ.:                 0.06876\n",
      "Time:                        16:16:28   Log-Likelihood:                -65.652\n",
      "converged:                       True   LL-Null:                       -70.499\n",
      "Covariance Type:            nonrobust   LLR p-value:                  0.007849\n",
      "===================================================================================\n",
      "                      coef    std err          z      P>|z|      [0.025      0.975]\n",
      "-----------------------------------------------------------------------------------\n",
      "size_Mid-Market    -1.2840      0.623     -2.060      0.039      -2.506      -0.062\n",
      "size_SMB           -1.6635      0.529     -3.145      0.002      -2.700      -0.627\n",
      "const              -0.1823      0.428     -0.426      0.670      -1.022       0.657\n",
      "===================================================================================\n",
      "\n",
      "--- Key Predictors (Odds Ratios) ---\n",
      "           Feature  Coefficient  Odds Ratio\n",
      "0  size_Mid-Market    -1.284016    0.276923\n",
      "1         size_SMB    -1.663505    0.189474\n"
     ]
    }
   ],
   "source": [
    "# Build and train the Logistic Regression model\n",
    "log_reg = sm.Logit(y_train, X_train_sm).fit()\n",
    "\n",
    "print(\"\\n--- Logistic Regression Model Summary (Propensity to Convert) ---\")\n",
    "print(log_reg.summary())\n",
    "\n",
    "# Interpretation: Extract coefficients to explain impact using Odds Ratios (exp(coefficient))\n",
    "results = pd.DataFrame({\n",
    "    'Feature': log_reg.params.index,\n",
    "    'Coefficient': log_reg.params.values,\n",
    "    'Odds Ratio': np.exp(log_reg.params.values)\n",
    "})\n",
    "\n",
    "# Filter out constant and present the interpretation\n",
    "odds_ratios = results[results['Feature'] != 'const'].sort_values(by='Odds Ratio', ascending=False)\n",
    "print(\"\\n--- Key Predictors (Odds Ratios) ---\")\n",
    "print(odds_ratios)\n"
   ]
  },
  {
   "cell_type": "markdown",
   "id": "2cf45387-775c-4828-bc06-455beaba560b",
   "metadata": {},
   "source": [
    "#### Propensity Modeling: Key Insights & Actions\n",
    "**Key Insight**\n",
    "The Logistic Regression model, which predicts the likelihood of conversion, statistically confirms that the Enterprise segment (the baseline) has the highest propensity to convert among all segments. The odds of a Mid-Market lead converting are 72.3% lower (Odds Ratio of 0.277), and the odds of an SMB lead converting are 81.1% lower (Odds Ratio of 0.189) compared to Enterprise. This contrasts with the Funnel Analysis, suggesting high-value Mid-Market leads are extremely hard to close.\n",
    "\n",
    "**Recommended Actions**\n",
    "1. **Lead Scoring Overhaul (High Priority):**\n",
    "\n",
    "- **Action:** Immediately implement a lead scoring system that heavily weights the Enterprise segment. Sales teams should dedicate disproportionate time and resources to Enterprise leads, as their probability of conversion is the highest.\n",
    "\n",
    "2. **Diagnostic for Mid-Market (High Priority):**\n",
    "\n",
    "- **Action:** Conduct a deep diagnostic of the Mid-Market segment's sales cycle to understand why their closing probability is so low. This is the most valuable lead if closed, but the model shows the current process is failing. Investigate common deal stages where they are \"Lost.\"\n",
    "\n",
    "3. **De-prioritize Low-Value/Low-Propensity:**\n",
    "\n",
    "- **Action:** Automate follow-up for the SMB segment and shift them entirely to a less expensive, low-touch or automated marketing nurture stream, diverting sales resources to the high-propensity Enterprise segment."
   ]
  },
  {
   "cell_type": "markdown",
   "id": "b2858313-709c-48fc-b97c-513c77c32e1d",
   "metadata": {},
   "source": [
    "### **3. A/B Testing Analysis (Based on Chi-Squared P-Value)**"
   ]
  },
  {
   "cell_type": "code",
   "execution_count": 6,
   "id": "bf8b3a81-9ca5-4c72-8036-52d86775c88b",
   "metadata": {},
   "outputs": [
    {
     "name": "stdout",
     "output_type": "stream",
     "text": [
      "--- A/B Test Contingency Table ---\n",
      "                Control  Treatment\n",
      "Conversions         120        165\n",
      "No Conversions     4880       4835\n",
      "\n",
      "Chi-Squared Test Results:\n",
      "Chi-Squared Statistic: 6.992\n",
      "P-Value: 0.00819\n",
      "Significance Level (alpha): 0.05\n"
     ]
    }
   ],
   "source": [
    "conversions_control = 120\n",
    "visitors_control = 5000\n",
    "conversions_treatment = 165\n",
    "visitors_treatment = 5000\n",
    "\n",
    "# Create a contingency table for the Chi-Squared test\n",
    "contingency_table = pd.DataFrame({\n",
    "    'Control': [conversions_control, visitors_control - conversions_control],\n",
    "    'Treatment': [conversions_treatment, visitors_treatment - conversions_treatment]\n",
    "}, index=['Conversions', 'No Conversions'])\n",
    "\n",
    "print(\"A/B Test Contingency Table \")\n",
    "print(contingency_table)\n",
    "\n",
    "# Perform the Chi-Squared test\n",
    "chi2, p_value, _, _ = chi2_contingency(contingency_table)\n",
    "\n",
    "alpha = 0.05\n",
    "\n",
    "print(f\"\\nChi-Squared Test Results:\")\n",
    "print(f\"Chi-Squared Statistic: {chi2:.3f}\")\n",
    "print(f\"P-Value: {p_value:.5f}\")\n",
    "print(f\"Significance Level (alpha): {alpha}\")"
   ]
  },
  {
   "cell_type": "markdown",
   "id": "cc712f95-95be-4a56-9345-5f9bdce9cf74",
   "metadata": {},
   "source": [
    "### **A/B Testing Analysis: Key Insights & Actions***\n",
    "**Key Insight**\n",
    "The test, comparing the standard pricing page (Control) to the new free trial offer (Treatment), resulted in a statistically significant lift in demo request conversions.\n",
    "\n",
    "- **Conversion Rate (Control):** 120/5,000=2.40%\n",
    "\n",
    "- **Conversion Rate (Treatment):** 165/5,000=3.30%\n",
    "\n",
    "- **Lift:** The Treatment delivered a 37.5% increase in conversion.\n",
    "\n",
    "- **Significance:** The P-Value of 0.00819 is well below the α=0.05 threshold, confirming the uplift is reliable and not due to random chance.\n",
    "\n",
    "**Recommended Actions**\n",
    "1. **Immediate Full Rollout (High Priority):**\n",
    "\n",
    "- **Action:** Immediately transition 100% of website traffic to the new pricing page (Treatment). This change is proven to increase the top-of-funnel lead volume without added advertising cost.\n",
    "\n",
    "2. **Verify Downstream Funnel Health (Post-Rollout):**\n",
    "\n",
    "- **Action:** Monitor the conversion rate of these new, higher-volume leads through the entire sales funnel (Lead → SQL → Won). Ensure the increase in volume does not dilute the high conversion efficiency established for the Enterprise segment.\n",
    "\n",
    "3. **Iterate on the Offer (Marketing Team):**\n",
    "\n",
    "- **Action:** Use the free trial success as a template. Launch new A/B tests to optimize elements like the duration of the trial, specific features included, and placement of the call-to-action to find further incremental conversion gains."
   ]
  }
 ],
 "metadata": {
  "kernelspec": {
   "display_name": "Python 3 (ipykernel)",
   "language": "python",
   "name": "python3"
  },
  "language_info": {
   "codemirror_mode": {
    "name": "ipython",
    "version": 3
   },
   "file_extension": ".py",
   "mimetype": "text/x-python",
   "name": "python",
   "nbconvert_exporter": "python",
   "pygments_lexer": "ipython3",
   "version": "3.11.4"
  }
 },
 "nbformat": 4,
 "nbformat_minor": 5
}
